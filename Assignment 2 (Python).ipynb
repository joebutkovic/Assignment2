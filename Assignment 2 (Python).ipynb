{
 "cells": [
  {
   "cell_type": "markdown",
   "metadata": {},
   "source": [
    "# Problem 1(a).  Fizz, Buzz, Woof.\n",
    "\n",
    "Write a program that prints the numbers from 1 to 150, except . . .\n",
    "\n",
    "* When you get a number that's divisible by 3, print \"Fizz\" instead.\n",
    "* When you get a number that's divisible by 5, print \"Buzz\" instead.\n",
    "* When you get a number that's divisible by 7, print \"Woof\" instead.\n",
    "\n",
    "If a number is divisible by several of these values, print the appropriate words in the corresponding order.  For example, for 15 you should print \"Fizz Buzz\", for 35 you should print \"Buzz Woof\", and for 105 you should print \"Fizz Buzz Woof\"."
   ]
  },
  {
   "cell_type": "code",
   "execution_count": null,
   "metadata": {
    "collapsed": true
   },
   "outputs": [],
   "source": []
  },
  {
   "cell_type": "markdown",
   "metadata": {},
   "source": [
    "# Problem 1(b) [Optional].  Direction of Play.\n",
    "\n",
    "Fizz, Buzz, Woof originates as a children's game.  The children sit in a circle.  Initially, play moves clockwise, with each child saying a number in turn.  After \"Fizz\", play switches direction, and after \"Buzz\", play switches direction again.  The direction of play continues to switch each time an *odd* number of non-integer words is spoken.  However, two-word substitutions, such as \"Fizz Buzz\", do *not* change direction of play, but three-word substitutions *do* change the direction of play.\n",
    "\n",
    "Modify your program from 1(a) so that it indicates the direction of play.  For example, your output should begin:\n",
    "\n",
    "```\n",
    "Clockwise!\n",
    "1\n",
    "2\n",
    "Fizz\n",
    "Counterclockwise!\n",
    "4\n",
    "Buzz\n",
    "Clockwise!\n",
    "Fizz\n",
    "Counterclockwise!\n",
    "Woof\n",
    "Clockwise!\n",
    "8\n",
    "Fizz\n",
    "Counterclockwise!\n",
    "Buzz\n",
    "Clockwise!\n",
    "11\n",
    "Fizz\n",
    "Counterclockwise!\n",
    "13\n",
    "Woof\n",
    "Clockwise!\n",
    "Fizz Buzz\n",
    "16\n",
    "```"
   ]
  },
  {
   "cell_type": "code",
   "execution_count": null,
   "metadata": {
    "collapsed": true
   },
   "outputs": [],
   "source": []
  },
  {
   "cell_type": "markdown",
   "metadata": {},
   "source": [
    "# Problem 2(a).  Mortgage Calculator.\n",
    "\n",
    "Buying a house is one of the biggest financial transactions that many people ever undertake.  Even a small difference in interest rates or monthly payments can make a large difference in how much you ultimately pay for your mortgage.  However, these details are often buried in masses of paperwork--so it pays to be able to calculate the long-term cost of a mortgage yourself.\n",
    "\n",
    "In this problem, you will create a mortgage calculator that takes as input the *principal loan amount*, *interest rate*, and *monthly payment*.  As output, your calculator should generate an *amortization table*, and compute how many *years and months* it took to pay off the mortgage, and report the *total amount of payments* over that time.\n",
    "\n",
    "In a mortgage, the bank lends you a certain amount of principal to purchase a house at a certain interest rate.  Every month, the amount you owe (the balance) first increases due to interest:  1/12 of the interest rate times the current balance.  Then the balance decreases due to your monthly payment.\n",
    "For example, suppose you borrow $\\$100,000$ at $5\\%$ annual interest, with $\\$500$ monthly payments.  In the first month, the interest increases the balance by $\\$416.67$, and then your payment reduces it by $\\$500$, for a remaining balance of $\\$99,916.67$.  In the second month, the interest charge is $\\$416.32$, and the remaining balance is \n",
    "$\\$99,832.99$.\n",
    "If you continue this process, you get an amortization table like this:\n",
    " \n",
    "```\n",
    "month\t payment\t interest\t balance\t\n",
    "1 \t     500 \t\t 416.67 \t 99916.67\n",
    "2 \t     500 \t\t 416.32 \t 99832.99\n",
    "3 \t     500 \t\t 415.97 \t 99748.96\n",
    "4 \t     500 \t\t 415.62 \t 99664.58\n",
    "5 \t     500 \t\t 415.27 \t 99579.85\n",
    "6 \t     500 \t\t 414.92 \t 99494.76\n",
    "7 \t     500 \t\t 414.56 \t 99409.32\n",
    "8 \t     500 \t\t 414.21 \t 99323.53\n",
    "9 \t     500 \t\t 413.85 \t 99237.38\n",
    "10 \t    500 \t\t 413.49 \t 99150.87\n",
    "\n",
    "```\n",
    " \n",
    "You can also compute the total amount of time and money to pay off the mortgage.  In this example, it takes 35 years and 11 months, and the total amount paid is approximately $\\$215,458.84$.\n",
    " \n",
    "Here are some things to consider when implementing the calculator:\n",
    "1.  For dollar values, only display two digits of precision after the decimal point.  (You can assume that the bank will not round internally!)\n",
    "2.  The final payment will almost certainly be smaller than the others, so be careful to check for that case so you don't end up with a negative balance.\n",
    "3.  If the monthly payment is too small, the balance will go up every month!  If this happens, the program should stop and display an appropriate error message.\n",
    "4.  If you accidentally create an infinite loop, try to interrupt or restart the kernel.\n",
    "5.  Use the modulus or $\\%$  operator to separate the years and months.\n",
    "6.  Your program should only display the columns requested, and the rows should be formatted to appear under the appropriate heading.\n"
   ]
  },
  {
   "cell_type": "code",
   "execution_count": null,
   "metadata": {
    "collapsed": true
   },
   "outputs": [],
   "source": []
  },
  {
   "cell_type": "markdown",
   "metadata": {},
   "source": [
    "# Problem 2(b). Test Suite.\n",
    "\n",
    "When writing complicated code, it is always a good idea to test your code on simple examples.  Use the following test cases to make sure your code matches calculations you can perform by hand. (Of course, if it does not match, please fix your code.)  For each test case, print the results.\n",
    "\n",
    "For each, use $\\$500$ for the principal, and an annual interest rate of $5\\%$.\n",
    "1. Monthly Payment: $\\$100$\n",
    "2. Monthly Payment: $\\$500$\n",
    "3. Monthly Payment: $\\$1$"
   ]
  },
  {
   "cell_type": "code",
   "execution_count": null,
   "metadata": {
    "collapsed": true
   },
   "outputs": [],
   "source": []
  },
  {
   "cell_type": "markdown",
   "metadata": {},
   "source": [
    "# Problem 2(c). Calculator Analysis.\n",
    "\n",
    "Answer the following questions in a markdown cell.\n",
    "\n",
    "1.  Describe in your own words how the mortgage calculator works.  What are the steps you are computing?  What are you keeping track of in each iteration?\n",
    "2.\tIf you had a mortgage with a principal of $\\$250,000$, an interest rate of $4\\%$, and a monthly payment of $\\$1000$, how long would it take you to pay it off?  How much would you have paid in total?\n",
    "\n",
    "In a code cell, print the amortization schedule produced by your code for the situation in 2 above.\n"
   ]
  },
  {
   "cell_type": "code",
   "execution_count": null,
   "metadata": {
    "collapsed": true
   },
   "outputs": [],
   "source": []
  }
 ],
 "metadata": {
  "kernelspec": {
   "display_name": "Python [Root]",
   "language": "python",
   "name": "Python [Root]"
  },
  "language_info": {
   "codemirror_mode": {
    "name": "ipython",
    "version": 3
   },
   "file_extension": ".py",
   "mimetype": "text/x-python",
   "name": "python",
   "nbconvert_exporter": "python",
   "pygments_lexer": "ipython3",
   "version": "3.5.2"
  }
 },
 "nbformat": 4,
 "nbformat_minor": 0
}
